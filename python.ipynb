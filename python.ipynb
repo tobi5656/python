{
  "nbformat": 4,
  "nbformat_minor": 0,
  "metadata": {
    "colab": {
      "provenance": [],
      "authorship_tag": "ABX9TyOXoYrmRsh9MxM/M5dS/rMy",
      "include_colab_link": true
    },
    "kernelspec": {
      "name": "python3",
      "display_name": "Python 3"
    },
    "language_info": {
      "name": "python"
    }
  },
  "cells": [
    {
      "cell_type": "markdown",
      "metadata": {
        "id": "view-in-github",
        "colab_type": "text"
      },
      "source": [
        "<a href=\"https://colab.research.google.com/github/tobi5656/python/blob/main/python.ipynb\" target=\"_parent\"><img src=\"https://colab.research.google.com/assets/colab-badge.svg\" alt=\"Open In Colab\"/></a>"
      ]
    },
    {
      "cell_type": "code",
      "execution_count": 6,
      "metadata": {
        "colab": {
          "base_uri": "https://localhost:8080/"
        },
        "id": "2zr0rqvuBK94",
        "outputId": "d0a88c83-53bd-4d3d-a819-f6e36d1ac41a"
      },
      "outputs": [
        {
          "output_type": "stream",
          "name": "stdout",
          "text": [
            "enter any number:4.6\n",
            "enter any number:9.2\n",
            "-4.6\n",
            "9.2\n"
          ]
        }
      ],
      "source": [
        "a = float(input(\"enter any number:\"))\n",
        "b = float(input(\"enter any number:\"))\n",
        "avg=a+b/2\n",
        "c=(a-b)\n",
        "print(c)\n",
        "print(avg)"
      ]
    },
    {
      "cell_type": "code",
      "source": [
        "#Python program to add two numbers\n",
        "\n",
        "#input two numbers\n",
        "a = int(input(\"Enter the first number:\"))\n",
        "b = int(input(\"Enter the second number:\"))\n",
        "#calculate sum\n",
        "sum= a + b\n",
        "print(\"Sum=\",sum)"
      ],
      "metadata": {
        "colab": {
          "base_uri": "https://localhost:8080/"
        },
        "id": "-Xrfu8OsWpcD",
        "outputId": "652fff3d-b086-42d7-cefe-7f41b47dbabd"
      },
      "execution_count": 1,
      "outputs": [
        {
          "output_type": "stream",
          "name": "stdout",
          "text": [
            "Enter the first number:956\n",
            "Enter the second number:55555\n",
            "Sum= 56511\n"
          ]
        }
      ]
    }
  ]
}